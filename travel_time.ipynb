{
 "cells": [
  {
   "cell_type": "code",
   "execution_count": 1,
   "metadata": {},
   "outputs": [],
   "source": [
    "import requests"
   ]
  },
  {
   "cell_type": "code",
   "execution_count": 6,
   "metadata": {},
   "outputs": [],
   "source": [
    "def get_route_time(start_lat, start_lng, end_lat, end_lng, api_key):\n",
    "    url = \"https://graphhopper.com/api/1/route\"\n",
    "    params = {\n",
    "        \"point\": [f\"{start_lat},{start_lng}\", f\"{end_lat},{end_lng}\"],\n",
    "        \"vehicle\": \"car\",  # or truck, depending on your needs\n",
    "        \"key\": api_key\n",
    "    }\n",
    "\n",
    "    response = requests.get(url, params=params)\n",
    "    data = response.json()\n",
    "    travel_time_ms = data['paths'][0]['time'] if 'paths' in data and len(data['paths']) > 0 else None\n",
    "    if travel_time_ms is not None:\n",
    "        travel_time_min = travel_time_ms/1000/60\n",
    "        return travel_time_min\n",
    "    else:\n",
    "        return None\n",
    "    "
   ]
  },
  {
   "cell_type": "code",
   "execution_count": 7,
   "metadata": {},
   "outputs": [
    {
     "data": {
      "text/plain": [
       "15.6553"
      ]
     },
     "execution_count": 7,
     "metadata": {},
     "output_type": "execute_result"
    }
   ],
   "source": [
    "get_route_time( 30.09083,31.32400,30.0728658061757, 31.47437511532617,\"b2f6e2bb-de44-46e4-bcc8-5faf77b3a76e\")"
   ]
  },
  {
   "cell_type": "code",
   "execution_count": 11,
   "metadata": {},
   "outputs": [],
   "source": [
    "def get_route(start_lat, start_lng, end_lat, end_lng, api_key):\n",
    "    url = \"https://graphhopper.com/api/1/route\"\n",
    "    params = {\n",
    "        \"point\": [f\"{start_lat},{start_lng}\", f\"{end_lat},{end_lng}\"],\n",
    "        \"vehicle\": \"car\",  # or truck, depending on your needs\n",
    "        \"key\": api_key\n",
    "    }\n",
    "\n",
    "    response = requests.get(url, params=params)\n",
    "    data = response.json()\n",
    "    total_distance_meters = data[\"paths\"][0][\"distance\"]\n",
    "    total_time_ms = data[\"paths\"][0][\"time\"]\n",
    "\n",
    "    # Convert distance to miles (1 mile = 1609.34 meters)\n",
    "    total_distance_miles = total_distance_meters / 1609.34\n",
    "\n",
    "    # Convert time to minutes\n",
    "    total_time_minutes = total_time_ms / 1000 / 60\n",
    "\n",
    "    return (total_time_minutes, total_distance_miles)"
   ]
  },
  {
   "cell_type": "code",
   "execution_count": 12,
   "metadata": {},
   "outputs": [
    {
     "data": {
      "text/plain": [
       "(15.6553, 10.47518920799831)"
      ]
     },
     "execution_count": 12,
     "metadata": {},
     "output_type": "execute_result"
    }
   ],
   "source": [
    "get_route( 30.09083,31.32400,30.0728658061757, 31.47437511532617,\"b2f6e2bb-de44-46e4-bcc8-5faf77b3a76e\")"
   ]
  },
  {
   "cell_type": "code",
   "execution_count": null,
   "metadata": {},
   "outputs": [],
   "source": []
  }
 ],
 "metadata": {
  "kernelspec": {
   "display_name": "Python 3",
   "language": "python",
   "name": "python3"
  },
  "language_info": {
   "codemirror_mode": {
    "name": "ipython",
    "version": 3
   },
   "file_extension": ".py",
   "mimetype": "text/x-python",
   "name": "python",
   "nbconvert_exporter": "python",
   "pygments_lexer": "ipython3",
   "version": "3.11.3"
  }
 },
 "nbformat": 4,
 "nbformat_minor": 2
}
